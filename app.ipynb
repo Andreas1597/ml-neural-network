{
    "cells": [
        {
            "cell_type": "code",
            "execution_count": 27,
            "source": [
                "from collections import defaultdict"
            ],
            "outputs": [],
            "metadata": {}
        },
        {
            "cell_type": "code",
            "execution_count": 1,
            "source": [
                "import src.mnist_loader"
            ],
            "outputs": [],
            "metadata": {}
        },
        {
            "cell_type": "code",
            "execution_count": 3,
            "source": [
                "training_data, validation_data, test_data = src.mnist_loader.load_data()"
            ],
            "outputs": [],
            "metadata": {}
        },
        {
            "cell_type": "code",
            "execution_count": 4,
            "source": [
                "training_data"
            ],
            "outputs": [
                {
                    "output_type": "execute_result",
                    "data": {
                        "text/plain": [
                            "(array([[0., 0., 0., ..., 0., 0., 0.],\n",
                            "        [0., 0., 0., ..., 0., 0., 0.],\n",
                            "        [0., 0., 0., ..., 0., 0., 0.],\n",
                            "        ...,\n",
                            "        [0., 0., 0., ..., 0., 0., 0.],\n",
                            "        [0., 0., 0., ..., 0., 0., 0.],\n",
                            "        [0., 0., 0., ..., 0., 0., 0.]], dtype=float32),\n",
                            " array([5, 0, 4, ..., 8, 4, 8]))"
                        ]
                    },
                    "metadata": {},
                    "execution_count": 4
                }
            ],
            "metadata": {}
        },
        {
            "cell_type": "code",
            "execution_count": 5,
            "source": [
                "training_data[0]"
            ],
            "outputs": [
                {
                    "output_type": "execute_result",
                    "data": {
                        "text/plain": [
                            "array([[0., 0., 0., ..., 0., 0., 0.],\n",
                            "       [0., 0., 0., ..., 0., 0., 0.],\n",
                            "       [0., 0., 0., ..., 0., 0., 0.],\n",
                            "       ...,\n",
                            "       [0., 0., 0., ..., 0., 0., 0.],\n",
                            "       [0., 0., 0., ..., 0., 0., 0.],\n",
                            "       [0., 0., 0., ..., 0., 0., 0.]], dtype=float32)"
                        ]
                    },
                    "metadata": {},
                    "execution_count": 5
                }
            ],
            "metadata": {}
        },
        {
            "cell_type": "code",
            "execution_count": 25,
            "source": [
                "training_data[0].shape"
            ],
            "outputs": [
                {
                    "output_type": "execute_result",
                    "data": {
                        "text/plain": [
                            "(50000, 784)"
                        ]
                    },
                    "metadata": {},
                    "execution_count": 25
                }
            ],
            "metadata": {}
        },
        {
            "cell_type": "code",
            "execution_count": 26,
            "source": [
                "training_data[1].shape"
            ],
            "outputs": [
                {
                    "output_type": "execute_result",
                    "data": {
                        "text/plain": [
                            "(50000,)"
                        ]
                    },
                    "metadata": {},
                    "execution_count": 26
                }
            ],
            "metadata": {}
        },
        {
            "cell_type": "code",
            "execution_count": 31,
            "source": [
                "digit_counts = defaultdict(int)\n",
                "darknesses = defaultdict(float)\n",
                "for image, digit in zip(training_data[0], training_data[1]):\n",
                "    digit_counts[digit] += 1\n",
                "    darknesses[digit] += sum(image)"
            ],
            "outputs": [],
            "metadata": {}
        },
        {
            "cell_type": "code",
            "execution_count": 30,
            "source": [
                "digit_counts"
            ],
            "outputs": [
                {
                    "output_type": "execute_result",
                    "data": {
                        "text/plain": [
                            "defaultdict(int,\n",
                            "            {5: 4506,\n",
                            "             0: 4932,\n",
                            "             4: 4859,\n",
                            "             1: 5678,\n",
                            "             9: 4988,\n",
                            "             2: 4968,\n",
                            "             3: 5101,\n",
                            "             6: 4951,\n",
                            "             7: 5175,\n",
                            "             8: 4842})"
                        ]
                    },
                    "metadata": {},
                    "execution_count": 30
                }
            ],
            "metadata": {}
        },
        {
            "cell_type": "code",
            "execution_count": 32,
            "source": [
                "darknesses"
            ],
            "outputs": [
                {
                    "output_type": "execute_result",
                    "data": {
                        "text/plain": [
                            "defaultdict(float,\n",
                            "            {5: 452161.15625,\n",
                            "             0: 670106.5,\n",
                            "             4: 462677.57421875,\n",
                            "             1: 338751.453125,\n",
                            "             9: 479075.24609375,\n",
                            "             2: 577750.1015625,\n",
                            "             3: 565552.5859375,\n",
                            "             6: 531653.828125,\n",
                            "             7: 465122.96875,\n",
                            "             8: 570777.69140625})"
                        ]
                    },
                    "metadata": {},
                    "execution_count": 32
                }
            ],
            "metadata": {}
        },
        {
            "cell_type": "code",
            "execution_count": null,
            "source": [],
            "outputs": [],
            "metadata": {}
        }
    ],
    "metadata": {
        "orig_nbformat": 4,
        "language_info": {
            "name": "python",
            "version": "3.8.5",
            "mimetype": "text/x-python",
            "codemirror_mode": {
                "name": "ipython",
                "version": 3
            },
            "pygments_lexer": "ipython3",
            "nbconvert_exporter": "python",
            "file_extension": ".py"
        },
        "kernelspec": {
            "name": "python3",
            "display_name": "Python 3.8.5 64-bit ('venv': venv)"
        },
        "interpreter": {
            "hash": "2116999625b74188076bc23865626184cf61b028d75dda126f120b84c90e023a"
        }
    },
    "nbformat": 4,
    "nbformat_minor": 2
}